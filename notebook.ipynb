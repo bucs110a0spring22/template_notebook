{
 "cells": [
  {
   "cell_type": "markdown",
   "metadata": {},
   "source": [
    "# Introduction to Programming in Python\n",
    "\n",
    "## Introductions\n"
   ]
  },
  {
   "cell_type": "markdown",
   "metadata": {},
   "source": [
    "Steven Moore\n",
    "\n",
    "Course Objective: Learn to program in python w/ some compter science concepts\n"
   ]
  },
  {
   "cell_type": "markdown",
   "metadata": {},
   "source": [
    "## Course Structure"
   ]
  },
  {
   "cell_type": "markdown",
   "metadata": {},
   "source": [
    "Chapters contain:\n",
    "* Readings\n",
    "* Lectures Notes\n",
    "* Review\n",
    "* Exercises\n",
    "* Labs\n",
    "* Exams\n",
    "* Projects\n",
    "\n",
    "Every Chapter has a due date, and all assignemnts for that Chpater are due by the due date unless stated otherwise.\n"
   ]
  },
  {
   "cell_type": "markdown",
   "metadata": {},
   "source": [
    "## Class and Lab"
   ]
  },
  {
   "cell_type": "markdown",
   "metadata": {},
   "source": [
    "Consist of shhort lectures and group exercises\n",
    "\n",
    "## Lab\n",
    "* Labs are always due w/ chapter\n",
    "* Labs are due on the day of lab\n",
    "    * Start lab before lab, then go to lab for help completing lab\n",
    "    * Don't go to lab and expect the CA to walk you through the assignment"
   ]
  },
  {
   "cell_type": "markdown",
   "metadata": {},
   "source": [
    "## Assignments"
   ]
  },
  {
   "cell_type": "markdown",
   "metadata": {},
   "source": [
    "### Evaluated\n",
    "Lab\n",
    "Exams\n",
    "Projects\n",
    "\n",
    "*Graded according to the rubric on the assignment*\n",
    "\n",
    "### Non-Evaluated\n",
    "Reviews\n",
    "Exercises\n",
    "\n",
    "*Graded according to whether or not it was completed on time*\n",
    "\n",
    "#### Labs\n",
    "* 5 Grace Days\n",
    "    * Use in 1 day increments, they are an automatic extension\n",
    "* If not using a grace day, -10% of total possible score per day late\n",
    "* You can submit or resubmit any lab after the deadline as many times as you like until you get at least 50%\n",
    "    * After 5 Days late, you cannot recieve more than 50% on an assignment\n",
    "    * You must notify me oif the re-submission and I will regrade when possible\n",
    "\n",
    "#### Exams\n",
    "Take home\n",
    "48 hour turn-around\n",
    "\n",
    "** You must submit exams on time **"
   ]
  }
 ],
 "metadata": {
  "interpreter": {
   "hash": "d396f3607e8b3e6bfc2fdae356169562b28e273c2fda1d30f25e33089c9c8fcf"
  },
  "kernelspec": {
   "display_name": "Python 3.9.9 64-bit ('3.9.9': pyenv)",
   "language": "python",
   "name": "python3"
  },
  "language_info": {
   "codemirror_mode": {
    "name": "ipython",
    "version": 3
   },
   "file_extension": ".py",
   "mimetype": "text/x-python",
   "name": "python",
   "nbconvert_exporter": "python",
   "pygments_lexer": "ipython3",
   "version": "3.9.9"
  },
  "orig_nbformat": 4
 },
 "nbformat": 4,
 "nbformat_minor": 2
}
